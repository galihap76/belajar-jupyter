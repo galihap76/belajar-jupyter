{
 "cells": [
  {
   "cell_type": "code",
   "execution_count": 8,
   "id": "70da3864",
   "metadata": {},
   "outputs": [
    {
     "name": "stdout",
     "output_type": "stream",
     "text": [
      "Selamat anda mendapatkan nilai A!\n"
     ]
    }
   ],
   "source": [
    "\"\"\"\n",
    "CODED BY : Galih Anggoro Prasetya\n",
    "\n",
    "GITHUB : galihap76\n",
    "\"\"\"\n",
    "\n",
    "# init Mainclass\n",
    "class Mainclass:\n",
    "    \n",
    "    # function utama\n",
    "    def Main(self):\n",
    "        nilai = 100\n",
    "        \n",
    "        # cek jika nilai nya lebih besar dari 90\n",
    "        if nilai > 90:\n",
    "            # beri pesan\n",
    "            print('Selamat anda mendapatkan nilai A!')\n",
    "            \n",
    "        # cek jika nilai nya lebih besar dari 80\n",
    "        elif nilai > 80:\n",
    "            # beri pesan\n",
    "            print('Selamat anda mendapatkan nilai B!')\n",
    "\n",
    "# jalankan program\n",
    "if __name__ == '__main__':\n",
    "    RUN = Mainclass()\n",
    "    RUN.Main()     "
   ]
  }
 ],
 "metadata": {
  "kernelspec": {
   "display_name": "Python 3 (ipykernel)",
   "language": "python",
   "name": "python3"
  },
  "language_info": {
   "codemirror_mode": {
    "name": "ipython",
    "version": 3
   },
   "file_extension": ".py",
   "mimetype": "text/x-python",
   "name": "python",
   "nbconvert_exporter": "python",
   "pygments_lexer": "ipython3",
   "version": "3.9.12"
  }
 },
 "nbformat": 4,
 "nbformat_minor": 5
}
